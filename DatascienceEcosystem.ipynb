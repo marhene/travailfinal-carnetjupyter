{
  "nbformat": 4,
  "nbformat_minor": 0,
  "metadata": {
    "colab": {
      "provenance": [],
      "authorship_tag": "ABX9TyMEqqtvSnddHJRRU9y2I4qa",
      "include_colab_link": true
    },
    "kernelspec": {
      "name": "python3",
      "display_name": "Python 3"
    },
    "language_info": {
      "name": "python"
    }
  },
  "cells": [
    {
      "cell_type": "markdown",
      "metadata": {
        "id": "view-in-github",
        "colab_type": "text"
      },
      "source": [
        "<a href=\"https://colab.research.google.com/github/marhene/travailfinal-carnetjupyter/blob/main/DatascienceEcosystem.ipynb\" target=\"_parent\"><img src=\"https://colab.research.google.com/assets/colab-badge.svg\" alt=\"Open In Colab\"/></a>"
      ]
    },
    {
      "cell_type": "code",
      "execution_count": null,
      "metadata": {
        "id": "H4xTqg2EjqCQ"
      },
      "outputs": [],
      "source": []
    },
    {
      "cell_type": "markdown",
      "source": [
        "# Data Sciences Tools and ecosystem"
      ],
      "metadata": {
        "id": "Ysg4I36Mj4ze"
      }
    },
    {
      "cell_type": "markdown",
      "source": [
        " In this notebook, data science Tools and Ecosystem are summarized."
      ],
      "metadata": {
        "id": "k4Raw4O9lN1Z"
      }
    },
    {
      "cell_type": "markdown",
      "source": [
        "Some of the popular languages that Data Scientists use are:\n",
        "\n",
        "1.   Python\n",
        "2.   R\n",
        "3.   Scala\n",
        "\n",
        "\n"
      ],
      "metadata": {
        "id": "xOTzJNOKmHPI"
      }
    },
    {
      "cell_type": "markdown",
      "source": [
        "Some of the commonly used libraries used by Data Scientists include:\n",
        "\n",
        "\n",
        "*   Pandas\n",
        "*   Numpy\n",
        "*   scikit-learn\n",
        "*   Keras\n",
        "\n",
        "\n",
        "\n",
        "\n",
        "\n",
        "\n"
      ],
      "metadata": {
        "id": "PScbkXKbnwSO"
      }
    },
    {
      "cell_type": "markdown",
      "source": [
        "|Data Sciences Tools|\n",
        "|-------------------|\n",
        "|Jupiter Lab|\n",
        "|Anaconda|\n",
        "|Google colab|"
      ],
      "metadata": {
        "id": "IqHcdmyYovdw"
      }
    },
    {
      "cell_type": "markdown",
      "source": [
        "### Below are a few examples of evaluating arithmetic expressions in python"
      ],
      "metadata": {
        "id": "EyUqMGHzqFFs"
      }
    },
    {
      "cell_type": "code",
      "source": [
        "# this a simple arithmetic expression to multiply then add integers\n",
        "(3*4)+5"
      ],
      "metadata": {
        "colab": {
          "base_uri": "https://localhost:8080/"
        },
        "id": "t6OuD_T-qixh",
        "outputId": "5ff7be1d-64d4-4a91-ece9-5ab07303f8c9"
      },
      "execution_count": 1,
      "outputs": [
        {
          "output_type": "execute_result",
          "data": {
            "text/plain": [
              "17"
            ]
          },
          "metadata": {},
          "execution_count": 1
        }
      ]
    },
    {
      "cell_type": "code",
      "source": [
        "#this will convert 200 minutes to hours by diving by 60\n",
        "200/60"
      ],
      "metadata": {
        "colab": {
          "base_uri": "https://localhost:8080/"
        },
        "id": "b4f2-2rKraUV",
        "outputId": "56d668ff-f0c9-4e84-d172-d0cfa42521a2"
      },
      "execution_count": 2,
      "outputs": [
        {
          "output_type": "execute_result",
          "data": {
            "text/plain": [
              "3.3333333333333335"
            ]
          },
          "metadata": {},
          "execution_count": 2
        }
      ]
    },
    {
      "cell_type": "markdown",
      "source": [
        "**Objectives**\n",
        "\n",
        "\n",
        "*   Edit a markdown cell\n",
        "*   List popular data science languages\n",
        "*   List popular data science libraries\n",
        "*   List open source data science tools\n",
        "\n"
      ],
      "metadata": {
        "id": "kCQIJtp5r0mD"
      }
    },
    {
      "cell_type": "markdown",
      "source": [
        "## Author\n",
        "Marie Hélène Mballo"
      ],
      "metadata": {
        "id": "V-lc52TvtVef"
      }
    }
  ]
}